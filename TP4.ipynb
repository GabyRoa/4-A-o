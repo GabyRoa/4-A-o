{
  "nbformat": 4,
  "nbformat_minor": 0,
  "metadata": {
    "colab": {
      "name": "TP4.ipynb",
      "provenance": [],
      "authorship_tag": "ABX9TyNCjK6tnM3yuoq4OcdSKbRk",
      "include_colab_link": true
    },
    "kernelspec": {
      "name": "python3",
      "display_name": "Python 3"
    },
    "language_info": {
      "name": "python"
    }
  },
  "cells": [
    {
      "cell_type": "markdown",
      "metadata": {
        "id": "view-in-github",
        "colab_type": "text"
      },
      "source": [
        "<a href=\"https://colab.research.google.com/github/GabyRoa/4-A-o/blob/main/TP4.ipynb\" target=\"_parent\"><img src=\"https://colab.research.google.com/assets/colab-badge.svg\" alt=\"Open In Colab\"/></a>"
      ]
    },
    {
      "cell_type": "code",
      "execution_count": null,
      "metadata": {
        "id": "tdqk7jXPehxL"
      },
      "outputs": [],
      "source": [
        ""
      ]
    },
    {
      "cell_type": "markdown",
      "source": [
        "#Ejercicio 1# \n",
        "Haz que el usuario introduzca números enteros por teclado. Mientras el usuario no introduzca el 0, muestra\n",
        "si el número introducido es par o impar."
      ],
      "metadata": {
        "id": "TXanmameer-O"
      }
    },
    {
      "cell_type": "code",
      "source": [
        "number= int(input(\"porfavor introduzca un numero entero\"))\n",
        "\n",
        "while number !=0:\n",
        "  print(\"el numero {} es {}\".format(number, \"par\" if number % 2 ==0 else \"impar\"))\n",
        "  number= int(input(\"porfavor introduzca un numero entero\"))\n",
        "\n",
        "print(\"haz salido del bucle\")"
      ],
      "metadata": {
        "colab": {
          "base_uri": "https://localhost:8080/"
        },
        "id": "cyYCF3mHezZl",
        "outputId": "23ddfbd5-da93-4fef-ac8b-bf6525f5f544"
      },
      "execution_count": 10,
      "outputs": [
        {
          "output_type": "stream",
          "name": "stdout",
          "text": [
            "porfavor introduzca un numero entero6\n",
            "el numero 6 es par\n",
            "porfavor introduzca un numero entero10\n",
            "el numero 10 es par\n",
            "porfavor introduzca un numero entero6\n",
            "el numero 6 es par\n",
            "porfavor introduzca un numero entero9\n",
            "el numero 9 es impar\n",
            "porfavor introduzca un numero entero2\n",
            "el numero 2 es par\n",
            "porfavor introduzca un numero entero4\n",
            "el numero 4 es par\n",
            "porfavor introduzca un numero entero90\n",
            "el numero 90 es par\n",
            "porfavor introduzca un numero entero0\n",
            "haz salido del bucle\n"
          ]
        }
      ]
    },
    {
      "cell_type": "markdown",
      "source": [
        "#Ejercicio 2#\n",
        "Haz que el usuario introduzca una palabra y una letra por teclado. Comprueba si la palabra contiene la\n",
        "letra o no e indícaselo al usuario por pantalla."
      ],
      "metadata": {
        "id": "Ah2XQCPjhz4a"
      }
    },
    {
      "cell_type": "code",
      "source": [
        "letter = input (\"porfavor, introduzca una letra\")\n",
        "\n",
        "word = input (\"porfavor , introduzca una palabra\" )\n",
        "\n",
        "i=0 \n",
        "found = False\n",
        "while i < len(word):\n",
        "  if word [i] == letter:\n",
        "    found = True\n",
        "    break\n",
        "  i+= 1\n",
        "print(\"La palabra {} {} contiene la letra {}\".format(word, \"si\" if found else \"no\" , letter))"
      ],
      "metadata": {
        "colab": {
          "base_uri": "https://localhost:8080/"
        },
        "id": "aowKg4tviYIX",
        "outputId": "c7f43309-7587-4abf-ad7e-bda9e42b67b0"
      },
      "execution_count": 13,
      "outputs": [
        {
          "output_type": "stream",
          "name": "stdout",
          "text": [
            "porfavor, introduzca una letran\n",
            "porfavor , introduzca una palabraladron\n",
            "La palabra ladron si contiene la letra n\n"
          ]
        }
      ]
    },
    {
      "cell_type": "markdown",
      "source": [
        "#Ejercicio 3#\n",
        "Haz que el usuario introduzca precios por teclado (si introduce 0, entonces es que ha finalizado). Si el usuario\n",
        "pasa de 200€, entonces ya no debe poder introducir más precios pues se ha pasado de presupuesto. Sea cual\n",
        "sea el resultado (o bien el precio final o bien que no tiene más presupuesto), indícaselo por pantalla al usuario."
      ],
      "metadata": {
        "id": "EJU4hNy_iYu9"
      }
    },
    {
      "cell_type": "code",
      "source": [
        "number = float(input(\"Introduzca el precio\" ))\n",
        "\n",
        "while number !0=:"
      ],
      "metadata": {
        "id": "t33RJiJ6ieRQ"
      },
      "execution_count": null,
      "outputs": []
    },
    {
      "cell_type": "markdown",
      "source": [
        "#Ejercicio 4#\n",
        "Haz que el usuario introduzca números enteros por teclado. Mientras el usuario no introduzca el 0, calcula\n",
        "cuántos números positivos y cuántos negativos ha introducido y muéstraselo al final."
      ],
      "metadata": {
        "id": "MSnvD-urie1a"
      }
    },
    {
      "cell_type": "code",
      "source": [
        ""
      ],
      "metadata": {
        "id": "WtiXBilkikcx"
      },
      "execution_count": null,
      "outputs": []
    },
    {
      "cell_type": "markdown",
      "source": [
        "#Ejercicio 5#\n",
        "Haz que el usuario introduzca números por teclado. Mientras el usuario no introduzca el 0, pídele otro\n",
        "número. Cuando el usuario introduzca el 0, muéstrale la media aritmética de los números que ha introducido."
      ],
      "metadata": {
        "id": "IvkRTPZ8ik2P"
      }
    },
    {
      "cell_type": "code",
      "source": [
        ""
      ],
      "metadata": {
        "id": "u-IO1-EripyK"
      },
      "execution_count": null,
      "outputs": []
    },
    {
      "cell_type": "markdown",
      "source": [
        "#Ejercicio 6#\n",
        "Haz que el usuario introduzca dos números enteros por teclado. El primero será el extremo izquierdo del\n",
        "intervalo y, el segundo, el extremo derecho. Imprime todos los números que se encuentren entre los dos\n",
        "números introducidos por el usuario (los extremos incluidos)."
      ],
      "metadata": {
        "id": "jUeFmAi9itFa"
      }
    },
    {
      "cell_type": "code",
      "source": [
        ""
      ],
      "metadata": {
        "id": "9hVluwoZix56"
      },
      "execution_count": null,
      "outputs": []
    },
    {
      "cell_type": "markdown",
      "source": [
        "#Ejercicio 7#\n",
        "Haz que el usuario introduzca dos números enteros por teclado. El primero será el extremo izquierdo del\n",
        "intervalo y, el segundo, el extremo derecho. Imprime la suma de todos los múltiplos de 3 que se encuentren\n",
        "entre los dos números introducidos por el usuario (los extremos incluidos). Finalmente, muestra por pantalla\n",
        "el resultado de la suma"
      ],
      "metadata": {
        "id": "igW4IzTBiyf0"
      }
    },
    {
      "cell_type": "code",
      "source": [
        ""
      ],
      "metadata": {
        "id": "tICojkKQi3ME"
      },
      "execution_count": null,
      "outputs": []
    },
    {
      "cell_type": "markdown",
      "source": [
        "#Ejercicio 8#\n",
        "Pídele al usuario cuántos números va a introducir. Con un bucle for, solicítale esa cantidad de números y\n",
        "calcula su producto."
      ],
      "metadata": {
        "id": "taFTg86Wi3k8"
      }
    },
    {
      "cell_type": "code",
      "source": [
        ""
      ],
      "metadata": {
        "id": "_u4vcpJri721"
      },
      "execution_count": null,
      "outputs": []
    },
    {
      "cell_type": "markdown",
      "source": [
        "#Ejercicio 9#\n",
        "Haz que el usuario introduzca su edad y el año actual. Imprime todos los años que han pasado desde su año\n",
        "de nacimiento hasta el año actual (ambos incluidos)."
      ],
      "metadata": {
        "id": "Xl6Fv5oDi-YT"
      }
    },
    {
      "cell_type": "code",
      "source": [
        ""
      ],
      "metadata": {
        "id": "umFIGnHGjAOl"
      },
      "execution_count": null,
      "outputs": []
    },
    {
      "cell_type": "markdown",
      "source": [
        "#Ejercicio 10#\n",
        "Haz que el usuario introduzca un número entero. Muestra un cuadrado y luego un triángulo rectángulo de\n",
        "lado y altura, respectivamente, el número entero introducido. Por ejemplo, si el usuario introduce como\n",
        "número 5, se deberá mostrar:"
      ],
      "metadata": {
        "id": "3OhNVVEgjCvB"
      }
    },
    {
      "cell_type": "code",
      "source": [
        ""
      ],
      "metadata": {
        "id": "b_UA4_pzjEnt"
      },
      "execution_count": null,
      "outputs": []
    }
  ]
}