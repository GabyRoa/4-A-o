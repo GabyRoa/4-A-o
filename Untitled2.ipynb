{
  "nbformat": 4,
  "nbformat_minor": 0,
  "metadata": {
    "colab": {
      "name": "Untitled2.ipynb",
      "provenance": [],
      "authorship_tag": "ABX9TyPKTb6bRGL2hlth06mkx/kx",
      "include_colab_link": true
    },
    "kernelspec": {
      "name": "python3",
      "display_name": "Python 3"
    },
    "language_info": {
      "name": "python"
    }
  },
  "cells": [
    {
      "cell_type": "markdown",
      "metadata": {
        "id": "view-in-github",
        "colab_type": "text"
      },
      "source": [
        "<a href=\"https://colab.research.google.com/github/GabyRoa/4-A-o/blob/main/Untitled2.ipynb\" target=\"_parent\"><img src=\"https://colab.research.google.com/assets/colab-badge.svg\" alt=\"Open In Colab\"/></a>"
      ]
    },
    {
      "cell_type": "code",
      "execution_count": null,
      "metadata": {
        "id": "1H2-Yy9745bh"
      },
      "outputs": [],
      "source": [
        ""
      ]
    },
    {
      "cell_type": "markdown",
      "source": [
        "**Ejercicio** \n",
        "\n",
        "Dado un string, vamos a pedir al usuario que introdusca una palabra perteneciente a dicho string y vamos a obtener el substring sin la palabra indicada por el usuario el metedo .find() y la funcionlen()\n"
      ],
      "metadata": {
        "id": "RVQxIkOD46KI"
      }
    },
    {
      "cell_type": "code",
      "source": [
        "string = \"la verdadera democracia es aquella donde el gorbierno hace lo que el pueblo quiere y defiende un solo interes: el del pueblo \"\n",
        "print (\"este es el string original:\\n\",string)\n",
        "\n",
        "print(\"Introduce la palabra que quieras eliminar del string original:\")\n",
        "word= input(\"palabra: \")\n",
        "\n",
        "idx = string.find(word)\n",
        "substring = string[0:idx] + string([idx+ len(word+1):]\n",
        "print(substring)                                  "
      ],
      "metadata": {
        "id": "8isT8qHXQl2t"
      },
      "execution_count": null,
      "outputs": []
    }
  ]
}