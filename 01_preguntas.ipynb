{
  "nbformat": 4,
  "nbformat_minor": 0,
  "metadata": {
    "colab": {
      "name": "01-preguntas.ipynb",
      "provenance": [],
      "authorship_tag": "ABX9TyP4ev9qy6CpnQ2xAOEl3qDg",
      "include_colab_link": true
    },
    "kernelspec": {
      "name": "python3",
      "display_name": "Python 3"
    },
    "language_info": {
      "name": "python"
    }
  },
  "cells": [
    {
      "cell_type": "markdown",
      "metadata": {
        "id": "view-in-github",
        "colab_type": "text"
      },
      "source": [
        "<a href=\"https://colab.research.google.com/github/GabyRoa/4-A-o/blob/main/01_preguntas.ipynb\" target=\"_parent\"><img src=\"https://colab.research.google.com/assets/colab-badge.svg\" alt=\"Open In Colab\"/></a>"
      ]
    },
    {
      "cell_type": "code",
      "execution_count": null,
      "metadata": {
        "id": "i3xo9-gg9mzM"
      },
      "outputs": [],
      "source": [
        ""
      ]
    },
    {
      "cell_type": "markdown",
      "source": [
        "**Cuestionario tema 1** \n",
        "\n",
        "Pregunta 1: ¿Cuál de las siguientes afirmaciones es la correccta? Los nombres variables en Python\n",
        "\n",
        "1. Pueden empezar y/o contener caracteres espeaciales\n",
        "\n",
        "2. No puedene empezar con mayuscualas\n",
        "\n",
        "3. Pueden contener espacios\n",
        "\n",
        "4. No pueden ser llamados igual que las palabras claves reservadas en python\n"
      ],
      "metadata": {
        "id": "-e_6fcHt9zb5"
      }
    },
    {
      "cell_type": "code",
      "source": [
        ""
      ],
      "metadata": {
        "id": "0qzAQLHn-r8O"
      },
      "execution_count": null,
      "outputs": []
    },
    {
      "cell_type": "markdown",
      "source": [
        "**4**\n"
      ],
      "metadata": {
        "id": "V2Ws8N8uIWAd"
      }
    },
    {
      "cell_type": "markdown",
      "source": [
        "Pregunta 2: Si a una variable a la que llamamos x le quiere asignar el valor 5 , la forma correcta de hacerlo es:\n",
        "\n",
        " 1.5=x\n",
        "\n",
        " 2.x=5\n",
        "\n",
        " 3.x=5\n",
        "\n",
        " 4.x=5\n"
      ],
      "metadata": {
        "id": "H7OSzzsH-s4i"
      }
    },
    {
      "cell_type": "code",
      "source": [
        ""
      ],
      "metadata": {
        "id": "gH6RCZoPBBNA"
      },
      "execution_count": null,
      "outputs": []
    },
    {
      "cell_type": "markdown",
      "source": [
        "**3**\n"
      ],
      "metadata": {
        "id": "kmyJhP1EInQA"
      }
    },
    {
      "cell_type": "markdown",
      "source": [
        "Pregunta 3 ¿Cuáles es la forma correcta de asignar a la variable age el valor 46 y a la variable name el nombre Juan Pablo?\n",
        "\n",
        "1. age,Juan Pablo = 46,name\n",
        "\n",
        "2. 30,Juan Pablo = age,name\n",
        "\n",
        "3. age,name = 46\" Juan Pablo\"\n",
        "\n",
        "4. age,name = 46 \"Juan Pablo\"\n"
      ],
      "metadata": {
        "id": "8RmJsYqfBBnp"
      }
    },
    {
      "cell_type": "markdown",
      "source": [
        "**4**"
      ],
      "metadata": {
        "id": "Q2xlX44IIsGq"
      }
    },
    {
      "cell_type": "code",
      "source": [
        ""
      ],
      "metadata": {
        "id": "jXSEUJfYB6BH"
      },
      "execution_count": null,
      "outputs": []
    },
    {
      "cell_type": "markdown",
      "source": [
        "Pregunta 4: Sabiendo que x -  1 si queremos guardaren la variable x el valor actual mas 5 unidades ¿ en que forma lo hariamos? \n",
        "\n",
        "1.x=+5\n",
        "\n",
        "2.x=5\n",
        "\n",
        "3.x+5=x\n",
        "\n",
        "4.y=x+5\n"
      ],
      "metadata": {
        "id": "qdOA-CuSB7Hh"
      }
    },
    {
      "cell_type": "markdown",
      "source": [
        "**2**"
      ],
      "metadata": {
        "id": "PfwwPorAIzjq"
      }
    },
    {
      "cell_type": "markdown",
      "source": [
        "Pregunta 5 ¿Qué resultado nos devuelve el siguiente código? \n",
        "- - -\n",
        "\n",
        "# Vamos a definir la variable x y asignarle el valor 20 \n",
        "x = # Aquie está nuestra variable x \n",
        "# Ahora vamos a restarle 2 y dividir por la mitad\n",
        "\n",
        "y = x - 2 \n",
        "\n",
        "x /=2 \n",
        "\n",
        "y\n",
        "\n",
        "\n",
        "\n",
        "1.20\n",
        "\n",
        "2.9\n",
        "\n",
        "3.18\n",
        "\n",
        "4.10\n",
        "\n"
      ],
      "metadata": {
        "id": "CrImvQjJC25I"
      }
    },
    {
      "cell_type": "markdown",
      "source": [
        "**3**"
      ],
      "metadata": {
        "id": "9I5rHYX1JNsL"
      }
    },
    {
      "cell_type": "code",
      "source": [
        ""
      ],
      "metadata": {
        "id": "3ESdcPI2JNjA"
      },
      "execution_count": null,
      "outputs": []
    },
    {
      "cell_type": "code",
      "source": [
        ""
      ],
      "metadata": {
        "id": "YZ7k9ancD10D"
      },
      "execution_count": null,
      "outputs": []
    },
    {
      "cell_type": "markdown",
      "source": [
        "Pregunta 6: Que hace exactamente la siguiente linea de codigo\n",
        "-import math as mates-\n",
        "\n",
        "1. Carga el modulo math solamente\n",
        "2. carga todas las funciones y variable del modulo math a las cuales podremos acceder sin necesidad de indicar el modelo al que pertenecen\n",
        "3. carga el modulo math, pero accedemos a el nombre mates y la sintesis para acceder a las funciones o variables en mates .funcion o mates().variables\n",
        "4. carga la funcion mates del modulo math"
      ],
      "metadata": {
        "id": "yNuf0b4wD2b7"
      }
    },
    {
      "cell_type": "markdown",
      "source": [
        "**3**\n"
      ],
      "metadata": {
        "id": "FBoGGroYKd-Z"
      }
    },
    {
      "cell_type": "code",
      "source": [
        ""
      ],
      "metadata": {
        "id": "vKkUEsi7K-XU"
      },
      "execution_count": null,
      "outputs": []
    }
  ]
}